{
 "cells": [
  {
   "cell_type": "code",
   "execution_count": null,
   "id": "1e2cde78",
   "metadata": {},
   "outputs": [],
   "source": [
    "#q1\n",
    "def bill(pizzas,puffs,cooldrinks):\n",
    "    pizza_price=100\n",
    "    puff_price=20\n",
    "    cooldrink_price=10\n",
    "    total_price=(pizzas*pizza_price)+(puffs*puff_price)+(cooldrinks*cooldrink_price)\n",
    "    print(\"Bill Details\")\n",
    "    print(\"No of pizzas:\",pizzas)\n",
    "    print(\"No of puffs:\",puffs)\n",
    "    print(\"No of cooldrinks:\",cooldrinks)\n",
    "    print(\"Total price=\",total_price)\n",
    "    \n",
    "pizzas=int(input(\"Enter the no of pizzas bought:\"))\n",
    "puffs=int(input(\"Enter the no of puffs bought:\"))\n",
    "cooldrinks=int(input(\"Enter the no of cool drinks bought:\"))\n",
    "bill(pizzas,puffs,cooldrinks)\n",
    "\n"
   ]
  },
  {
   "cell_type": "code",
   "execution_count": null,
   "id": "b399d477",
   "metadata": {},
   "outputs": [],
   "source": [
    "#q2\n",
    "def steps(m,n):\n",
    "    total_steps=m//n\n",
    "    remaining_rows=m%n\n",
    "    if remaining_rows!=0:\n",
    "        total_steps+=1\n",
    "        print(\"Total steps taken:\",total_steps)\n",
    "    else:\n",
    "        print(\"Total steps taken:\",total_steps)\n",
    "           \n",
    "m=int(input(\"Enter the number of stairs:\"))\n",
    "n=int(input(\"Enter the number of steps:\"))\n",
    "steps(m,n)\n",
    "\n",
    "\n"
   ]
  },
  {
   "cell_type": "code",
   "execution_count": null,
   "id": "52843e25",
   "metadata": {},
   "outputs": [],
   "source": [
    "#q8\n",
    "\n",
    "def find_leaders(arr):\n",
    "    leaders = []\n",
    "    max_from_right = float('-inf')\n",
    "\n",
    "    for num in reversed(arr):\n",
    "        if num > max_from_right:\n",
    "            leaders.append(num)\n",
    "            max_from_right = num\n",
    "\n",
    "    return leaders[::-1]\n",
    "\n",
    "arr = [23, 22, 24, 8, 9, 10]\n",
    "result = find_leaders(arr)\n",
    "print(result)\n",
    "\n"
   ]
  },
  {
   "cell_type": "code",
   "execution_count": null,
   "id": "285b472c",
   "metadata": {},
   "outputs": [],
   "source": [
    "#q9\n",
    "\n",
    "def is_anagram(str1, str2):\n",
    "    return sorted(str1) == sorted(str2)\n",
    "\n",
    "str1 = 'coding'\n",
    "str2 = 'ingodc'\n",
    "result = is_anagram(str1, str2)\n",
    "print(result)\n",
    "str1 = 'hello' \n",
    "str2 = 'hoeli'\n",
    "print(is_anagram(str1, str2))\n",
    "\n"
   ]
  },
  {
   "cell_type": "code",
   "execution_count": null,
   "id": "38ffdf52",
   "metadata": {},
   "outputs": [],
   "source": [
    "#q10\n",
    "\n",
    "def saveIronman(s):\n",
    "    clean_s = ''.join(c.lower() for c in s if c.isalnum())\n",
    "    return clean_s == clean_s[::-1]\n",
    "\n",
    "s = \"I am :IronnorI Ma, i\"\n",
    "result = \"YES\" if saveIronman(s) else \"NO\"\n",
    "print(result)"
   ]
  }
 ],
 "metadata": {
  "kernelspec": {
   "display_name": "Python 3 (ipykernel)",
   "language": "python",
   "name": "python3"
  },
  "language_info": {
   "codemirror_mode": {
    "name": "ipython",
    "version": 3
   },
   "file_extension": ".py",
   "mimetype": "text/x-python",
   "name": "python",
   "nbconvert_exporter": "python",
   "pygments_lexer": "ipython3",
   "version": "3.10.9"
  }
 },
 "nbformat": 4,
 "nbformat_minor": 5
}
